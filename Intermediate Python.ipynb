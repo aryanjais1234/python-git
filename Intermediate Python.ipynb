{
 "cells": [
  {
   "cell_type": "markdown",
   "id": "134eb5f8",
   "metadata": {},
   "source": [
    "# 1. Iteration Protocol in Python\n",
    "  - Iteration: repitition of a process.\n",
    "  - Iterable: a Python object which supports iteration.\n",
    "  - Iterator: a Python object to perform iteration iteration over an iterable."
   ]
  },
  {
   "cell_type": "code",
   "execution_count": 2,
   "id": "6b3cf9dc",
   "metadata": {},
   "outputs": [],
   "source": [
    "x = [1,2,3]"
   ]
  },
  {
   "cell_type": "code",
   "execution_count": 3,
   "id": "be162f8b",
   "metadata": {},
   "outputs": [],
   "source": [
    "x_iter=iter(x)"
   ]
  },
  {
   "cell_type": "code",
   "execution_count": 4,
   "id": "9b02d7c9",
   "metadata": {},
   "outputs": [
    {
     "data": {
      "text/plain": [
       "<list_iterator at 0x19c31ffa760>"
      ]
     },
     "execution_count": 4,
     "metadata": {},
     "output_type": "execute_result"
    }
   ],
   "source": [
    "x_iter"
   ]
  },
  {
   "cell_type": "code",
   "execution_count": 9,
   "id": "77e8f24e",
   "metadata": {},
   "outputs": [
    {
     "ename": "StopIteration",
     "evalue": "",
     "output_type": "error",
     "traceback": [
      "\u001b[1;31m---------------------------------------------------------------------------\u001b[0m",
      "\u001b[1;31mStopIteration\u001b[0m                             Traceback (most recent call last)",
      "Input \u001b[1;32mIn [9]\u001b[0m, in \u001b[0;36m<cell line: 1>\u001b[1;34m()\u001b[0m\n\u001b[1;32m----> 1\u001b[0m \u001b[38;5;28;43mnext\u001b[39;49m\u001b[43m(\u001b[49m\u001b[43mx_iter\u001b[49m\u001b[43m)\u001b[49m\n",
      "\u001b[1;31mStopIteration\u001b[0m: "
     ]
    }
   ],
   "source": [
    "next(x_iter)"
   ]
  },
  {
   "cell_type": "markdown",
   "id": "daa27588",
   "metadata": {},
   "source": [
    "## Iteration Protocol in Python\n",
    "  The iteration protocol is a fancy term meaning \"how iterables actually work in Python\".  \n",
    "  1. For a class obejct to an itrable:  \n",
    "   - Can be passed to the iter function to get an interator for them.\n",
    "  2. For any iterator:\n",
    "   - Can be passed to the next function which gives their next item or raises Stopiteration.\n",
    "   - Return themseleves when passed to the iter function."
   ]
  },
  {
   "cell_type": "code",
   "execution_count": 22,
   "id": "95b06af0",
   "metadata": {},
   "outputs": [],
   "source": [
    "class yrange:\n",
    "    # n is the number upto which I wnat the range\n",
    "    def __init__(self,n):\n",
    "        self.i = 0\n",
    "        self.n=n\n",
    "    \n",
    "    # this method make a class iterable\n",
    "    def __iter__(self):\n",
    "        return self\n",
    "    # this method should be implemented by the ITERATOR\n",
    "    def __next__(self):\n",
    "        if self.i<self.n:\n",
    "            self.i+=1\n",
    "            return self.i\n",
    "        else:\n",
    "            raise StopIteration()\n"
   ]
  },
  {
   "cell_type": "code",
   "execution_count": 23,
   "id": "e45b1287",
   "metadata": {},
   "outputs": [
    {
     "name": "stdout",
     "output_type": "stream",
     "text": [
      "1\n",
      "2\n",
      "3\n",
      "4\n",
      "5\n"
     ]
    }
   ],
   "source": [
    "for x in yrange(5):\n",
    "    print(x)"
   ]
  },
  {
   "cell_type": "code",
   "execution_count": 25,
   "id": "590b0193",
   "metadata": {},
   "outputs": [],
   "source": [
    "y = yrange(5)"
   ]
  },
  {
   "cell_type": "code",
   "execution_count": 26,
   "id": "c4372e64",
   "metadata": {},
   "outputs": [],
   "source": [
    "y_iter=iter(y)"
   ]
  },
  {
   "cell_type": "code",
   "execution_count": 27,
   "id": "ed71439e",
   "metadata": {},
   "outputs": [
    {
     "data": {
      "text/plain": [
       "<__main__.yrange at 0x19c321ef4c0>"
      ]
     },
     "execution_count": 27,
     "metadata": {},
     "output_type": "execute_result"
    }
   ],
   "source": [
    "y_iter"
   ]
  },
  {
   "cell_type": "code",
   "execution_count": 33,
   "id": "5ca05130",
   "metadata": {},
   "outputs": [
    {
     "ename": "StopIteration",
     "evalue": "",
     "output_type": "error",
     "traceback": [
      "\u001b[1;31m---------------------------------------------------------------------------\u001b[0m",
      "\u001b[1;31mStopIteration\u001b[0m                             Traceback (most recent call last)",
      "Input \u001b[1;32mIn [33]\u001b[0m, in \u001b[0;36m<cell line: 1>\u001b[1;34m()\u001b[0m\n\u001b[1;32m----> 1\u001b[0m \u001b[38;5;28;43mnext\u001b[39;49m\u001b[43m(\u001b[49m\u001b[43my_iter\u001b[49m\u001b[43m)\u001b[49m\n",
      "Input \u001b[1;32mIn [22]\u001b[0m, in \u001b[0;36myrange.__next__\u001b[1;34m(self)\u001b[0m\n\u001b[0;32m     14\u001b[0m     \u001b[38;5;28;01mreturn\u001b[39;00m \u001b[38;5;28mself\u001b[39m\u001b[38;5;241m.\u001b[39mi\n\u001b[0;32m     15\u001b[0m \u001b[38;5;28;01melse\u001b[39;00m:\n\u001b[1;32m---> 16\u001b[0m     \u001b[38;5;28;01mraise\u001b[39;00m \u001b[38;5;167;01mStopIteration\u001b[39;00m()\n",
      "\u001b[1;31mStopIteration\u001b[0m: "
     ]
    }
   ],
   "source": [
    "next(y_iter)"
   ]
  },
  {
   "cell_type": "code",
   "execution_count": null,
   "id": "50818b20",
   "metadata": {},
   "outputs": [],
   "source": []
  },
  {
   "cell_type": "code",
   "execution_count": null,
   "id": "059ee984",
   "metadata": {},
   "outputs": [],
   "source": []
  },
  {
   "cell_type": "code",
   "execution_count": null,
   "id": "2aea9671",
   "metadata": {},
   "outputs": [],
   "source": []
  },
  {
   "cell_type": "code",
   "execution_count": null,
   "id": "174c195f",
   "metadata": {},
   "outputs": [],
   "source": []
  }
 ],
 "metadata": {
  "kernelspec": {
   "display_name": "Python 3 (ipykernel)",
   "language": "python",
   "name": "python3"
  },
  "language_info": {
   "codemirror_mode": {
    "name": "ipython",
    "version": 3
   },
   "file_extension": ".py",
   "mimetype": "text/x-python",
   "name": "python",
   "nbconvert_exporter": "python",
   "pygments_lexer": "ipython3",
   "version": "3.8.5"
  }
 },
 "nbformat": 4,
 "nbformat_minor": 5
}
