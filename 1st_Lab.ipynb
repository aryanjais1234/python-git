{
 "cells": [
  {
   "cell_type": "markdown",
   "id": "ad2f208f",
   "metadata": {},
   "source": [
    "# HELLO WORLD"
   ]
  },
  {
   "cell_type": "code",
   "execution_count": 23,
   "id": "a533252c",
   "metadata": {},
   "outputs": [
    {
     "name": "stdout",
     "output_type": "stream",
     "text": [
      "Hello,Python!\n"
     ]
    }
   ],
   "source": [
    "print(\"Hello,Python!\")"
   ]
  },
  {
   "cell_type": "markdown",
   "id": "e7d73396",
   "metadata": {},
   "source": [
    "# Variables"
   ]
  },
  {
   "cell_type": "code",
   "execution_count": 24,
   "id": "2056fc35",
   "metadata": {},
   "outputs": [
    {
     "name": "stdout",
     "output_type": "stream",
     "text": [
      "1000 1000.0 Aryan\n",
      "1000.0\n",
      "Aryan\n"
     ]
    }
   ],
   "source": [
    "counter=1000  # an integer\n",
    "miles=1000.0  # an flaoting point\n",
    "name=\"Aryan\"  # a string\n",
    "print(counter,miles,name)\n",
    "print(miles)\n",
    "print(name)"
   ]
  },
  {
   "cell_type": "code",
   "execution_count": 25,
   "id": "73587318",
   "metadata": {},
   "outputs": [
    {
     "name": "stdout",
     "output_type": "stream",
     "text": [
      "1 2 Aryan\n"
     ]
    }
   ],
   "source": [
    "a,b,c=1,2,\"Aryan\"\n",
    "print(a,b,c)"
   ]
  },
  {
   "cell_type": "markdown",
   "id": "930fc2bf",
   "metadata": {},
   "source": [
    "# TypeCasting"
   ]
  },
  {
   "cell_type": "code",
   "execution_count": 26,
   "id": "b544c4de",
   "metadata": {},
   "outputs": [
    {
     "name": "stdout",
     "output_type": "stream",
     "text": [
      "10\n"
     ]
    }
   ],
   "source": [
    "a=10.5\n",
    "print(int(a))"
   ]
  },
  {
   "cell_type": "markdown",
   "id": "1461fef7",
   "metadata": {},
   "source": [
    "# Arithmetic Operation"
   ]
  },
  {
   "cell_type": "code",
   "execution_count": 27,
   "id": "ac276eea",
   "metadata": {},
   "outputs": [
    {
     "name": "stdout",
     "output_type": "stream",
     "text": [
      "5\n"
     ]
    }
   ],
   "source": [
    "a,b=2,3\n",
    "print(a+b)"
   ]
  },
  {
   "cell_type": "code",
   "execution_count": 28,
   "id": "b29f4da1",
   "metadata": {},
   "outputs": [
    {
     "name": "stdout",
     "output_type": "stream",
     "text": [
      "20\n"
     ]
    }
   ],
   "source": [
    "a,b=4,5\n",
    "print(a*b)"
   ]
  },
  {
   "cell_type": "code",
   "execution_count": 29,
   "id": "cff16cb4",
   "metadata": {},
   "outputs": [
    {
     "name": "stdout",
     "output_type": "stream",
     "text": [
      "4.0\n"
     ]
    }
   ],
   "source": [
    "a,b=20,5\n",
    "print(a/b)"
   ]
  },
  {
   "cell_type": "code",
   "execution_count": 30,
   "id": "ac628d00",
   "metadata": {},
   "outputs": [
    {
     "name": "stdout",
     "output_type": "stream",
     "text": [
      "6\n"
     ]
    }
   ],
   "source": [
    "a,b=10,4\n",
    "print(a-b)"
   ]
  },
  {
   "cell_type": "code",
   "execution_count": 32,
   "id": "8e4c565b",
   "metadata": {},
   "outputs": [
    {
     "name": "stdout",
     "output_type": "stream",
     "text": [
      "4\n"
     ]
    }
   ],
   "source": [
    "a,b=19,5\n",
    "print(a%b)"
   ]
  },
  {
   "cell_type": "markdown",
   "id": "380c6745",
   "metadata": {},
   "source": [
    "# Lists"
   ]
  },
  {
   "cell_type": "code",
   "execution_count": 65,
   "id": "b1e6a3b6",
   "metadata": {},
   "outputs": [
    {
     "name": "stdout",
     "output_type": "stream",
     "text": [
      "['abcd', 786, 2.23, 'john', 70.2]\n",
      "abcd\n",
      "[786, 2.23]\n",
      "[2.23, 'john', 70.2]\n",
      "[123, 'aa', 123, 'aa']\n",
      "<class 'list'>\n",
      "5\n",
      "[1, 2, 3, 4, 5, 6]\n",
      "True\n",
      "1\n",
      "2\n",
      "3\n",
      "4\n",
      "5\n",
      "6\n"
     ]
    }
   ],
   "source": [
    "list=['abcd',786,2.23,'john',70.2]\n",
    "tinylist=[123,'aa']\n",
    "print (list)\n",
    "print(list[0])\n",
    "print(list[1:3])\n",
    "print(list[2:])\n",
    "print (tinylist*2)\n",
    "print (type(list))\n",
    "\n",
    "print (len(list))\n",
    "\n",
    "a=[1,2,3]+[4,5,6]\n",
    "print(a)\n",
    "\n",
    "print (4 in a)\n",
    "\n",
    "for x in a: print(x)"
   ]
  },
  {
   "cell_type": "markdown",
   "id": "0733144e",
   "metadata": {},
   "source": [
    "# functions in list"
   ]
  },
  {
   "cell_type": "code",
   "execution_count": 109,
   "id": "d88918e6",
   "metadata": {},
   "outputs": [
    {
     "name": "stdout",
     "output_type": "stream",
     "text": [
      "False\n",
      "True\n",
      "3\n",
      "3\n",
      "1\n",
      "[1, 2, 3, 10]\n",
      "1\n",
      "[1, 2, 3, 10, 4, 5, 6]\n",
      "0\n",
      "[1, 12, 2, 3, 10, 4, 5, 6]\n",
      "[1, 2, 3, 10, 4, 5, 6]\n",
      "[1, 2, 3, 10, 4, 6]\n",
      "[6, 4, 10, 3, 2, 1]\n",
      "[1, 2, 3, 4, 6, 10]\n"
     ]
    }
   ],
   "source": [
    "a=[1,2,3]\n",
    "b=[4,5,6]\n",
    "c=[1,2,3]\n",
    "print(a==b)     #check both list are same or not\n",
    "print(a==c)\n",
    "print(len(a))   #return length of list\n",
    "print(max(a))   #return max element in list\n",
    "print(min(a))   #return min element in list\n",
    "\n",
    "a.append(10)    #add element in list\n",
    "print(a)\n",
    "print(a.count(1)) #rteurn element frequency\n",
    "a.extend(b)     #add lsit b to a\n",
    "print(a)\n",
    "\n",
    "print(a.index(1))  #return the lowest index in list that object appears\n",
    "\n",
    "a.insert(1,12)     #add element at index\n",
    "print(a)\n",
    "\n",
    "a.pop(1)           #pop index\n",
    "print(a)\n",
    "\n",
    "a.remove(5)        #pop element\n",
    "print(a)\n",
    "a.reverse()        #reverse the list\n",
    "print(a)\n",
    "a.sort()           #sort the list\n",
    "print(a)"
   ]
  },
  {
   "cell_type": "markdown",
   "id": "1ed0f545",
   "metadata": {},
   "source": [
    "# Dictionary"
   ]
  },
  {
   "cell_type": "code",
   "execution_count": 114,
   "id": "ea05839b",
   "metadata": {},
   "outputs": [
    {
     "name": "stdout",
     "output_type": "stream",
     "text": [
      "This is one\n",
      "This is two\n",
      "{'name': 'Aryan', 'code': 21053012, 'dept': 'cse'}\n",
      "dict_keys(['name', 'code', 'dept'])\n",
      "dict_values(['Aryan', 21053012, 'cse'])\n"
     ]
    }
   ],
   "source": [
    "dict={}\n",
    "dict['one']=\"This is one\"\n",
    "dict[2]=\"This is two\"\n",
    "\n",
    "tinydict={'name':'Aryan','code':21053012,'dept':'cse'}\n",
    "\n",
    "print(dict['one'])\n",
    "print(dict[2])\n",
    "print(tinydict)\n",
    "print(tinydict.keys())\n",
    "print(tinydict.values())"
   ]
  },
  {
   "cell_type": "code",
   "execution_count": 134,
   "id": "e84d77d2",
   "metadata": {},
   "outputs": [
    {
     "name": "stdout",
     "output_type": "stream",
     "text": [
      "dict_keys([1, 2, 3])\n",
      "dict_values([{'name': 'Aryan', 'salary': 50000}, {'name': 'Ankur', 'salary': 60000}, {'name': 'Manav', 'salary': 70000}])\n",
      "Aryan\n",
      "dict_items([(1, {'name': 'Aryan', 'salary': 50000}), (2, {'name': 'Ankur', 'salary': 60000}), (3, {'name': 'Manav', 'salary': 70000})])\n",
      "3\n"
     ]
    }
   ],
   "source": [
    "employee={1:{'name':'Aryan','salary':50000},\n",
    "          2:{'name':'Ankur','salary':60000},\n",
    "          3:{'name':'Manav','salary':70000}}\n",
    "\n",
    "print (employee.keys())\n",
    "print (employee.values())\n",
    "\n",
    "print(employee[1].get('name'))\n",
    "\n",
    "print(employee.items())\n",
    "\n",
    "print(len(employee))"
   ]
  },
  {
   "cell_type": "code",
   "execution_count": 142,
   "id": "ef9c8481",
   "metadata": {},
   "outputs": [
    {
     "name": "stdout",
     "output_type": "stream",
     "text": [
      "{1: 'Aryan', 2: 'Ankur', 3: 'Manav'}\n"
     ]
    }
   ],
   "source": [
    "list1=[1,2,3]\n",
    "list2=['Aryan','Ankur','Manav']\n",
    "\n",
    "dict = {list1[i]: list2[i] for i in range(len(list1))}\n",
    "\n",
    "print(dict)\n",
    "\n"
   ]
  },
  {
   "cell_type": "code",
   "execution_count": 1,
   "id": "389656c9",
   "metadata": {},
   "outputs": [
    {
     "name": "stdout",
     "output_type": "stream",
     "text": [
      "{1: 'Aryan', 2: 'Ankur', 3: 'Manav'}\n",
      "[1, 2, 3]\n",
      "['Aryan', 'Ankur', 'Manav']\n"
     ]
    }
   ],
   "source": [
    "dic={1: 'Aryan', 2: 'Ankur', 3: 'Manav'}\n",
    "\n",
    "list1= list(dic.keys())\n",
    "list2= list(dic.values())\n",
    "print(dic)\n",
    "print(list1)\n",
    "print(list2)"
   ]
  },
  {
   "cell_type": "markdown",
   "id": "c6a0e3c3",
   "metadata": {},
   "source": [
    "# Tuples"
   ]
  },
  {
   "cell_type": "code",
   "execution_count": 2,
   "id": "fd0b0315",
   "metadata": {},
   "outputs": [
    {
     "name": "stdout",
     "output_type": "stream",
     "text": [
      "('abcd', 786, 2.23, 'john', 70.2)\n",
      "abcd\n",
      "(786, 2.23)\n",
      "(2.23, 'john', 70.2)\n",
      "(123, 'john', 123, 'john')\n",
      "['abcd', 786, 2.23, 'john', 70.2]\n"
     ]
    }
   ],
   "source": [
    "tuple1=('abcd',786,2.23,'john',70.2)\n",
    "\n",
    "tinytuple=(123,'john')\n",
    "\n",
    "print(tuple1)\n",
    "\n",
    "print(tuple1[0])\n",
    "\n",
    "print(tuple1[1:3])\n",
    "\n",
    "print(tuple1[2:])\n",
    "\n",
    "print(tinytuple*2)\n",
    "\n",
    "list = list(tuple1)\n",
    "print(list)\n"
   ]
  },
  {
   "cell_type": "code",
   "execution_count": null,
   "id": "b8f6b983",
   "metadata": {},
   "outputs": [],
   "source": []
  }
 ],
 "metadata": {
  "kernelspec": {
   "display_name": "Python 3 (ipykernel)",
   "language": "python",
   "name": "python3"
  },
  "language_info": {
   "codemirror_mode": {
    "name": "ipython",
    "version": 3
   },
   "file_extension": ".py",
   "mimetype": "text/x-python",
   "name": "python",
   "nbconvert_exporter": "python",
   "pygments_lexer": "ipython3",
   "version": "3.8.5"
  },
  "vscode": {
   "interpreter": {
    "hash": "25b23125bc8e443db38af0052e3ef15d2931751398bc38dcf7521df0c91ee777"
   }
  }
 },
 "nbformat": 4,
 "nbformat_minor": 5
}
