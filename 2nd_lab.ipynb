{
 "cells": [
  {
   "cell_type": "markdown",
   "id": "cb902694",
   "metadata": {},
   "source": [
    "# String"
   ]
  },
  {
   "cell_type": "code",
   "execution_count": 9,
   "id": "50408d13",
   "metadata": {},
   "outputs": [
    {
     "name": "stdout",
     "output_type": "stream",
     "text": [
      "Hello World\n",
      "H\n",
      "llo\n",
      "llo World\n",
      "Hello WorldHello World\n",
      "Hello WorldTest\n"
     ]
    }
   ],
   "source": [
    "str=\"Hello World\"\n",
    "print (str)\n",
    "print (str[0])\n",
    "print (str[2:5])\n",
    "print (str[2:])\n",
    "print (str*2)\n",
    "print (str+\"Test\")"
   ]
  },
  {
   "cell_type": "markdown",
   "id": "bbbebc12",
   "metadata": {},
   "source": [
    "# Methods"
   ]
  },
  {
   "cell_type": "code",
   "execution_count": 15,
   "id": "c832c2da",
   "metadata": {},
   "outputs": [
    {
     "name": "stdout",
     "output_type": "stream",
     "text": [
      "abc\n",
      "ABC\n",
      "ABC\n",
      "abc\n"
     ]
    }
   ],
   "source": [
    "str=\"abc\"\n",
    "print(str)\n",
    "print(str.upper())   #change lower case to upper case\n",
    "\n",
    "str1=\"ABC\"\n",
    "print(str1)\n",
    "print(str1.lower())  #change upper case to lower case\n"
   ]
  },
  {
   "cell_type": "markdown",
   "id": "a8ef8b91",
   "metadata": {},
   "source": [
    "# Condition Statements"
   ]
  },
  {
   "cell_type": "code",
   "execution_count": 18,
   "id": "22082179",
   "metadata": {},
   "outputs": [
    {
     "name": "stdout",
     "output_type": "stream",
     "text": [
      "error\n"
     ]
    }
   ],
   "source": [
    "var1=100\n",
    "\n",
    "if var1>100:\n",
    "    print(\"Success\")\n",
    "else:\n",
    "    print(\"error\")"
   ]
  },
  {
   "cell_type": "code",
   "execution_count": 21,
   "id": "4b7eb1e2",
   "metadata": {},
   "outputs": [
    {
     "name": "stdout",
     "output_type": "stream",
     "text": [
      "3 -  Got the true expression value\n",
      "200\n"
     ]
    }
   ],
   "source": [
    "var1=200\n",
    "\n",
    "if var1==100:\n",
    "    print(\"1 -  Got the true expression value\")\n",
    "    print(var1)\n",
    "elif var1==150:\n",
    "    print(\"2 -  Got the true expression value\")\n",
    "    print(var1)\n",
    "elif var1==200:\n",
    "    print(\"3 -  Got the true expression value\")\n",
    "    print(var1)\n",
    "else:\n",
    "    print()"
   ]
  },
  {
   "cell_type": "markdown",
   "id": "23621c3c",
   "metadata": {},
   "source": [
    "# Loop"
   ]
  },
  {
   "cell_type": "code",
   "execution_count": 23,
   "id": "39bf624c",
   "metadata": {},
   "outputs": [
    {
     "name": "stdout",
     "output_type": "stream",
     "text": [
      "The count is  0\n",
      "The count is  1\n",
      "The count is  2\n",
      "The count is  3\n",
      "The count is  4\n",
      "The count is  5\n",
      "The count is  6\n",
      "The count is  7\n",
      "The count is  8\n",
      "Good Bye\n"
     ]
    }
   ],
   "source": [
    "count=0\n",
    "\n",
    "while(count<9):\n",
    "    print(\"The count is \",count)\n",
    "    count=count+1\n",
    "print(\"Good Bye\")"
   ]
  },
  {
   "cell_type": "code",
   "execution_count": 26,
   "id": "4d9183e1",
   "metadata": {},
   "outputs": [
    {
     "name": "stdout",
     "output_type": "stream",
     "text": [
      "0  Count is less than 5\n",
      "1  Count is less than 5\n",
      "2  Count is less than 5\n",
      "3  Count is less than 5\n",
      "4  Count is less than 5\n",
      "5  Count is not less than 5\n"
     ]
    }
   ],
   "source": [
    "count=0\n",
    "while count<5:\n",
    "    print(count,\" Count is less than 5\")\n",
    "    count+=1\n",
    "else:\n",
    "    print(count,\" Count is not less than 5\")\n",
    "    "
   ]
  },
  {
   "cell_type": "code",
   "execution_count": 31,
   "id": "3dbe9129",
   "metadata": {},
   "outputs": [
    {
     "name": "stdout",
     "output_type": "stream",
     "text": [
      "2  is prime\n",
      "3  is prime\n",
      "5  is prime\n",
      "7  is prime\n",
      "11  is prime\n",
      "13  is prime\n",
      "17  is prime\n",
      "19  is prime\n",
      "23  is prime\n",
      "29  is prime\n",
      "31  is prime\n",
      "37  is prime\n",
      "41  is prime\n",
      "43  is prime\n",
      "47  is prime\n",
      "53  is prime\n",
      "59  is prime\n",
      "61  is prime\n",
      "67  is prime\n",
      "71  is prime\n",
      "73  is prime\n",
      "79  is prime\n",
      "83  is prime\n",
      "89  is prime\n",
      "97  is prime\n",
      "Good Bye\n"
     ]
    }
   ],
   "source": [
    "i=2\n",
    "while(i<100):\n",
    "    j=2\n",
    "    while(j<=(i/j)):\n",
    "        if not(i%j):break\n",
    "        j+=1\n",
    "    if(j>i/j):\n",
    "        print(i,\" is prime\")\n",
    "    i+=1\n",
    "    \n",
    "print(\"Good Bye\")"
   ]
  },
  {
   "cell_type": "code",
   "execution_count": 36,
   "id": "9fc8a589",
   "metadata": {},
   "outputs": [
    {
     "name": "stdout",
     "output_type": "stream",
     "text": [
      "Current letter: P\n",
      "Current letter: y\n",
      "Current letter: t\n",
      "Current letter: h\n",
      "Current letter: o\n",
      "Current letter: n\n",
      "Current letter: C\n",
      "Current letter: l\n",
      "Current letter: a\n",
      "Current letter: s\n",
      "Current letter: s\n"
     ]
    }
   ],
   "source": [
    "for i in 'PythonClass':\n",
    "    print('Current letter:',i)"
   ]
  },
  {
   "cell_type": "code",
   "execution_count": 38,
   "id": "3b6b1290",
   "metadata": {},
   "outputs": [
    {
     "name": "stdout",
     "output_type": "stream",
     "text": [
      "Current fruit: banana\n",
      "Current fruit: apple\n",
      "Current fruit: mango\n",
      "Good Bye\n",
      "Currnet fruit: banana\n",
      "Currnet fruit: apple\n",
      "Currnet fruit: mango\n"
     ]
    }
   ],
   "source": [
    "fruits=['banana','apple','mango']\n",
    "for fruit in fruits:\n",
    "    print('Current fruit:',fruit)\n",
    "print(\"Good Bye\")\n",
    "\n",
    "for i in range(len(fruits)):\n",
    "    print('Currnet fruit:',fruits[i])"
   ]
  },
  {
   "cell_type": "code",
   "execution_count": 39,
   "id": "1a50886a",
   "metadata": {},
   "outputs": [
    {
     "name": "stdout",
     "output_type": "stream",
     "text": [
      "1\n",
      "2\n",
      "3\n",
      "4\n",
      "5\n",
      "6\n",
      "7\n",
      "8\n",
      "9\n"
     ]
    }
   ],
   "source": [
    "for i in range(1,10):\n",
    "    print(i)"
   ]
  },
  {
   "cell_type": "code",
   "execution_count": 41,
   "id": "fcd7d6e2",
   "metadata": {},
   "outputs": [
    {
     "name": "stdout",
     "output_type": "stream",
     "text": [
      "0\n",
      "3\n",
      "6\n",
      "9\n"
     ]
    }
   ],
   "source": [
    "for i in range(0,10,3):\n",
    "    print(i)"
   ]
  },
  {
   "cell_type": "code",
   "execution_count": 44,
   "id": "00954e6f",
   "metadata": {},
   "outputs": [
    {
     "name": "stdout",
     "output_type": "stream",
     "text": [
      "{'name': 'Aryan', 'salary': 50000}\n",
      "{'name': 'Ankur', 'salary': 60000}\n",
      "{'name': 'Manav', 'salary': 70000}\n"
     ]
    }
   ],
   "source": [
    "employee={1:{'name':'Aryan','salary':50000},\n",
    "          2:{'name':'Ankur','salary':60000},\n",
    "          3:{'name':'Manav','salary':70000}}\n",
    "\n",
    "for i in (employee):\n",
    "    print(employee[i])"
   ]
  },
  {
   "cell_type": "code",
   "execution_count": 56,
   "id": "902ed63d",
   "metadata": {},
   "outputs": [
    {
     "name": "stdout",
     "output_type": "stream",
     "text": [
      "['KII', 'IIT', 'T']\n"
     ]
    }
   ],
   "source": [
    "D={'A1':\"KII\",\n",
    "   'A2':\"IIT\",\n",
    "   'A3':\"ABC\",\n",
    "   'A4':\"T\"\n",
    "}\n",
    "check=\"KIIT\"\n",
    "res=[]\n",
    "for i in (D):\n",
    "    if(check.find(D[i]) != -1):\n",
    "        res.append(D[i])\n",
    "print(res)\n"
   ]
  },
  {
   "cell_type": "markdown",
   "id": "70554516",
   "metadata": {},
   "source": [
    "# Functions"
   ]
  },
  {
   "cell_type": "code",
   "execution_count": 62,
   "id": "e30e843a",
   "metadata": {},
   "outputs": [],
   "source": [
    "def changeme(mylist):\n",
    "    mylist.append([1,2,3,4])\n",
    "    print(\"Values inside the function\",mylist)\n",
    "    return\n"
   ]
  },
  {
   "cell_type": "code",
   "execution_count": 64,
   "id": "b6985c26",
   "metadata": {},
   "outputs": [
    {
     "name": "stdout",
     "output_type": "stream",
     "text": [
      "Values inside the function [10, 20, 30, [1, 2, 3, 4]]\n",
      "Values outside the function [10, 20, 30, [1, 2, 3, 4]]\n"
     ]
    }
   ],
   "source": [
    "mylist=[10,20,30]\n",
    "changeme(mylist)\n",
    "print(\"Values outside the function\",mylist)"
   ]
  },
  {
   "cell_type": "code",
   "execution_count": 87,
   "id": "be38e22a",
   "metadata": {},
   "outputs": [],
   "source": [
    "global total\n",
    "def sum(arg1,arg2): \n",
    "    total=arg1+arg2\n",
    "    print(\"Inside the function local total: \",total)\n",
    "    return  total"
   ]
  },
  {
   "cell_type": "code",
   "execution_count": 88,
   "id": "b562e671",
   "metadata": {},
   "outputs": [
    {
     "name": "stdout",
     "output_type": "stream",
     "text": [
      "Inside the function local total:  30\n",
      "Outside the function global total 30\n"
     ]
    }
   ],
   "source": [
    "sum(10,20)\n",
    "print(\"Outside the function global total\", total)"
   ]
  },
  {
   "cell_type": "code",
   "execution_count": null,
   "id": "d659d4ca",
   "metadata": {},
   "outputs": [],
   "source": []
  },
  {
   "cell_type": "code",
   "execution_count": null,
   "id": "e469f491",
   "metadata": {},
   "outputs": [],
   "source": []
  }
 ],
 "metadata": {
  "kernelspec": {
   "display_name": "Python 3 (ipykernel)",
   "language": "python",
   "name": "python3"
  },
  "language_info": {
   "codemirror_mode": {
    "name": "ipython",
    "version": 3
   },
   "file_extension": ".py",
   "mimetype": "text/x-python",
   "name": "python",
   "nbconvert_exporter": "python",
   "pygments_lexer": "ipython3",
   "version": "3.8.5"
  },
  "vscode": {
   "interpreter": {
    "hash": "25b23125bc8e443db38af0052e3ef15d2931751398bc38dcf7521df0c91ee777"
   }
  }
 },
 "nbformat": 4,
 "nbformat_minor": 5
}
