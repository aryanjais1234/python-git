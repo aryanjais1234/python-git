{
 "cells": [
  {
   "cell_type": "markdown",
   "id": "c9093583",
   "metadata": {},
   "source": [
    "# File Access Modes"
   ]
  },
  {
   "cell_type": "markdown",
   "id": "513465f9",
   "metadata": {},
   "source": [
    "### Read Only('r')  \n",
    "### Read and Write('r+')  \n",
    "### Write Only('w')  \n",
    "### Write and Read('w+')  \n",
    "### Append Only('a')  \n",
    "### Append and Read('a+')  "
   ]
  },
  {
   "cell_type": "markdown",
   "id": "0240de52",
   "metadata": {},
   "source": [
    "# 1. Text Files  \n",
    "\n",
    "### Opening a file"
   ]
  },
  {
   "cell_type": "code",
   "execution_count": 29,
   "id": "5fe795ac",
   "metadata": {},
   "outputs": [],
   "source": [
    "file = open(\"hello.txt\",\"r\")"
   ]
  },
  {
   "cell_type": "code",
   "execution_count": 30,
   "id": "063679fe",
   "metadata": {},
   "outputs": [
    {
     "data": {
      "text/plain": [
       "'Hello World'"
      ]
     },
     "execution_count": 30,
     "metadata": {},
     "output_type": "execute_result"
    }
   ],
   "source": [
    "file.read()"
   ]
  },
  {
   "cell_type": "code",
   "execution_count": 31,
   "id": "03a68233",
   "metadata": {},
   "outputs": [
    {
     "data": {
      "text/plain": [
       "''"
      ]
     },
     "execution_count": 31,
     "metadata": {},
     "output_type": "execute_result"
    }
   ],
   "source": [
    "file.read(3)"
   ]
  },
  {
   "cell_type": "markdown",
   "id": "47157eaa",
   "metadata": {},
   "source": [
    "### Closing a file"
   ]
  },
  {
   "cell_type": "code",
   "execution_count": 32,
   "id": "ad58d878",
   "metadata": {},
   "outputs": [],
   "source": [
    "file.close()"
   ]
  },
  {
   "cell_type": "markdown",
   "id": "1d997f07",
   "metadata": {},
   "source": [
    "### Writing to a file\n",
    "#### write\n",
    "#### writelines"
   ]
  },
  {
   "cell_type": "code",
   "execution_count": 34,
   "id": "5f666c7d",
   "metadata": {},
   "outputs": [],
   "source": [
    "file = open(\"something.txt\",\"w\")"
   ]
  },
  {
   "cell_type": "code",
   "execution_count": 35,
   "id": "88eef4e6",
   "metadata": {},
   "outputs": [
    {
     "data": {
      "text/plain": [
       "21"
      ]
     },
     "execution_count": 35,
     "metadata": {},
     "output_type": "execute_result"
    }
   ],
   "source": [
    "file.write(\"hello from other side\")"
   ]
  },
  {
   "cell_type": "code",
   "execution_count": 37,
   "id": "c1fa8f9a",
   "metadata": {},
   "outputs": [],
   "source": [
    "file = open(\"something.txt\",\"r\")"
   ]
  },
  {
   "cell_type": "code",
   "execution_count": 39,
   "id": "0c1a8528",
   "metadata": {},
   "outputs": [
    {
     "data": {
      "text/plain": [
       "'hello from other side'"
      ]
     },
     "execution_count": 39,
     "metadata": {},
     "output_type": "execute_result"
    }
   ],
   "source": [
    "file.read()"
   ]
  },
  {
   "cell_type": "code",
   "execution_count": 40,
   "id": "937f3eeb",
   "metadata": {},
   "outputs": [],
   "source": [
    "file.close()"
   ]
  },
  {
   "cell_type": "markdown",
   "id": "81df3876",
   "metadata": {},
   "source": [
    "## Reading from a file\n",
    "#### read\n",
    "#### readline\n",
    "#### readlines"
   ]
  },
  {
   "cell_type": "code",
   "execution_count": 54,
   "id": "a089cd12",
   "metadata": {},
   "outputs": [],
   "source": [
    "file=open(\"hello.txt\",\"r\")"
   ]
  },
  {
   "cell_type": "code",
   "execution_count": 55,
   "id": "6a0ff5f3",
   "metadata": {},
   "outputs": [
    {
     "data": {
      "text/plain": [
       "['Hello World\\n', 'hello agian']"
      ]
     },
     "execution_count": 55,
     "metadata": {},
     "output_type": "execute_result"
    }
   ],
   "source": [
    "file.readlines()"
   ]
  },
  {
   "cell_type": "code",
   "execution_count": 56,
   "id": "219406be",
   "metadata": {},
   "outputs": [],
   "source": [
    "file.close()"
   ]
  },
  {
   "cell_type": "markdown",
   "id": "d984edc7",
   "metadata": {},
   "source": [
    "## Moving the cusror\n",
    "#### seek(n) : takes the file handle to the nth byte from the beginning"
   ]
  },
  {
   "cell_type": "code",
   "execution_count": 57,
   "id": "e2f06c10",
   "metadata": {},
   "outputs": [],
   "source": [
    "file=open(\"hello.txt\",\"r\")"
   ]
  },
  {
   "cell_type": "code",
   "execution_count": 58,
   "id": "900dfbb3",
   "metadata": {},
   "outputs": [
    {
     "data": {
      "text/plain": [
       "'Hello'"
      ]
     },
     "execution_count": 58,
     "metadata": {},
     "output_type": "execute_result"
    }
   ],
   "source": [
    "file.read(5)"
   ]
  },
  {
   "cell_type": "code",
   "execution_count": 59,
   "id": "502c9969",
   "metadata": {},
   "outputs": [
    {
     "data": {
      "text/plain": [
       "' World\\nhello agian'"
      ]
     },
     "execution_count": 59,
     "metadata": {},
     "output_type": "execute_result"
    }
   ],
   "source": [
    "file.read()"
   ]
  },
  {
   "cell_type": "code",
   "execution_count": 60,
   "id": "46b8c53d",
   "metadata": {},
   "outputs": [
    {
     "data": {
      "text/plain": [
       "0"
      ]
     },
     "execution_count": 60,
     "metadata": {},
     "output_type": "execute_result"
    }
   ],
   "source": [
    "file.seek(0)"
   ]
  },
  {
   "cell_type": "code",
   "execution_count": 61,
   "id": "575dffbd",
   "metadata": {},
   "outputs": [
    {
     "data": {
      "text/plain": [
       "'Hello World\\nhello agian'"
      ]
     },
     "execution_count": 61,
     "metadata": {},
     "output_type": "execute_result"
    }
   ],
   "source": [
    "file.read()"
   ]
  },
  {
   "cell_type": "code",
   "execution_count": 62,
   "id": "bf73c0db",
   "metadata": {},
   "outputs": [],
   "source": [
    "file.close()"
   ]
  },
  {
   "cell_type": "markdown",
   "id": "b6cb99f1",
   "metadata": {},
   "source": [
    "## Smarter way of opening files...  \n",
    "With the \"with\" statement, you get better syntax and exceptions handling.  \n",
    "  \n",
    "\"The with statement simplifies exception handling by encapsulating common preparation and cleanup tasks.\" \n",
    "  \n",
    "In addition, it will automatically close the file. The with statement provides a way for ensuring that a cleap-up is always used."
   ]
  },
  {
   "cell_type": "code",
   "execution_count": 63,
   "id": "50e0463e",
   "metadata": {},
   "outputs": [
    {
     "name": "stdout",
     "output_type": "stream",
     "text": [
      "Hello World\n",
      "hello agian\n",
      " World\n",
      "hello agian\n"
     ]
    }
   ],
   "source": [
    "with open(\"hello.txt\",\"r\")as file:\n",
    "    print(file.read())\n",
    "    file.seek(5)\n",
    "    print(file.read())\n"
   ]
  },
  {
   "cell_type": "markdown",
   "id": "89032a5d",
   "metadata": {},
   "source": [
    "# 2. JSON files"
   ]
  },
  {
   "cell_type": "code",
   "execution_count": 66,
   "id": "6ac7b025",
   "metadata": {},
   "outputs": [],
   "source": [
    "import json"
   ]
  },
  {
   "cell_type": "code",
   "execution_count": 71,
   "id": "025ac9aa",
   "metadata": {},
   "outputs": [
    {
     "name": "stdout",
     "output_type": "stream",
     "text": [
      "aryan\n",
      "90\n"
     ]
    }
   ],
   "source": [
    "with open(\"data.json\",\"r\")as file:\n",
    "    d=json.load(file)\n",
    "    print(d[\"name\"])\n",
    "    print(d[\"marks\"])"
   ]
  },
  {
   "cell_type": "code",
   "execution_count": 74,
   "id": "5a4456dc",
   "metadata": {},
   "outputs": [
    {
     "name": "stdout",
     "output_type": "stream",
     "text": [
      "{\n",
      "    \"name\": \"aryan\",\n",
      "    \"marks\":90,\n",
      "    \"subjects\":[\"eng\",\"math\"]\n",
      "}\n",
      "{'name': 'aryan', 'marks': 90, 'subjects': ['eng', 'math']}\n"
     ]
    }
   ],
   "source": [
    "with open(\"data.json\",\"r\")as file:\n",
    "    data=file.read()\n",
    "    print(data)\n",
    "    d=json.loads(data)\n",
    "    print(d)"
   ]
  },
  {
   "cell_type": "code",
   "execution_count": 75,
   "id": "02e2ba76",
   "metadata": {},
   "outputs": [],
   "source": [
    "d={'name': 'aryan', 'marks': 90, 'subjects': ['eng', 'math']}"
   ]
  },
  {
   "cell_type": "code",
   "execution_count": 76,
   "id": "32f8702f",
   "metadata": {},
   "outputs": [],
   "source": [
    "string=json.dumps(d)"
   ]
  },
  {
   "cell_type": "code",
   "execution_count": 79,
   "id": "8ca5028d",
   "metadata": {},
   "outputs": [
    {
     "name": "stdout",
     "output_type": "stream",
     "text": [
      "<class 'str'>\n"
     ]
    }
   ],
   "source": [
    "print(type(string))"
   ]
  },
  {
   "cell_type": "code",
   "execution_count": 80,
   "id": "3c9ab928",
   "metadata": {},
   "outputs": [],
   "source": [
    "with open(\"data2.json\",\"w\")as file:\n",
    "    json.dump(d,file)"
   ]
  },
  {
   "cell_type": "code",
   "execution_count": null,
   "id": "f17d5116",
   "metadata": {},
   "outputs": [],
   "source": []
  }
 ],
 "metadata": {
  "kernelspec": {
   "display_name": "Python 3 (ipykernel)",
   "language": "python",
   "name": "python3"
  },
  "language_info": {
   "codemirror_mode": {
    "name": "ipython",
    "version": 3
   },
   "file_extension": ".py",
   "mimetype": "text/x-python",
   "name": "python",
   "nbconvert_exporter": "python",
   "pygments_lexer": "ipython3",
   "version": "3.8.5"
  }
 },
 "nbformat": 4,
 "nbformat_minor": 5
}
