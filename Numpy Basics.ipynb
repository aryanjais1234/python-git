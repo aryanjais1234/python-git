{
 "cells": [
  {
   "cell_type": "markdown",
   "id": "611850d1",
   "metadata": {},
   "source": [
    "# Working with Numpy - for mathematical opeqations"
   ]
  },
  {
   "cell_type": "code",
   "execution_count": 3,
   "id": "dab33b70",
   "metadata": {},
   "outputs": [],
   "source": [
    "import numpy as np"
   ]
  },
  {
   "cell_type": "code",
   "execution_count": 4,
   "id": "7ac61a6b",
   "metadata": {},
   "outputs": [
    {
     "name": "stdout",
     "output_type": "stream",
     "text": [
      "[1 2 3 4]\n",
      "<class 'numpy.ndarray'>\n",
      "(4,)\n"
     ]
    }
   ],
   "source": [
    "a = np.array([1,2,3,4])\n",
    "print(a)\n",
    "print(type(a))\n",
    "\n",
    "print(a.shape)"
   ]
  },
  {
   "cell_type": "code",
   "execution_count": 5,
   "id": "e9f0451e",
   "metadata": {},
   "outputs": [
    {
     "name": "stdout",
     "output_type": "stream",
     "text": [
      "[[1]\n",
      " [2]\n",
      " [3]\n",
      " [4]\n",
      " [5]]\n",
      "(5, 1)\n"
     ]
    }
   ],
   "source": [
    "b=np.array([[1],[2],[3],[4],[5]])\n",
    "print(b)\n",
    "print(b.shape)"
   ]
  },
  {
   "cell_type": "code",
   "execution_count": 6,
   "id": "666a0679",
   "metadata": {},
   "outputs": [
    {
     "name": "stdout",
     "output_type": "stream",
     "text": [
      "[[1 2 3]\n",
      " [4 5 6]]\n",
      "(2, 3)\n",
      "5\n"
     ]
    }
   ],
   "source": [
    "c=np.array([[1,2,3],[4,5,6]])\n",
    "print(c)\n",
    "print(c.shape)\n",
    "print(c[1][1])"
   ]
  },
  {
   "cell_type": "code",
   "execution_count": 12,
   "id": "b6f2acdd",
   "metadata": {},
   "outputs": [
    {
     "name": "stdout",
     "output_type": "stream",
     "text": [
      "[[0. 0. 0.]\n",
      " [0. 0. 0.]\n",
      " [0. 0. 0.]]\n",
      "[[1. 1. 1.]\n",
      " [1. 1. 1.]]\n",
      "[[5 5]\n",
      " [5 5]\n",
      " [5 5]]\n",
      "[[1. 0. 0. 0.]\n",
      " [0. 1. 0. 0.]\n",
      " [0. 0. 1. 0.]\n",
      " [0. 0. 0. 1.]]\n",
      "[[0.67575736 0.28653346 0.46774404]\n",
      " [0.74879968 0.66348833 0.09800095]]\n"
     ]
    }
   ],
   "source": [
    "# Create zeroes, Ones, Custom array\n",
    "a = np.zeros((3,3))\n",
    "print(a)\n",
    "\n",
    "b=np.ones((2,3))\n",
    "print(b)\n",
    "\n",
    "\n",
    "# Array of some constants\n",
    "\n",
    "c=np.full((3,2),5)\n",
    "print(c)\n",
    "\n",
    "# Identity Matrix - Size/Sqaure matrix\n",
    "d=np.eye(4)\n",
    "print(d)\n",
    "\n",
    "# Random array\n",
    "randommatrix=np.random.random((2,3))\n",
    "print(randommatrix)"
   ]
  },
  {
   "cell_type": "code",
   "execution_count": 13,
   "id": "c5aa3532",
   "metadata": {},
   "outputs": [
    {
     "name": "stdout",
     "output_type": "stream",
     "text": [
      "[0.28653346 0.66348833]\n"
     ]
    }
   ],
   "source": [
    "print(randommatrix[:,1])"
   ]
  },
  {
   "cell_type": "code",
   "execution_count": 21,
   "id": "ca9d7d8a",
   "metadata": {},
   "outputs": [
    {
     "name": "stdout",
     "output_type": "stream",
     "text": [
      "[[0.67575736 0.28653346 0.46774404]\n",
      " [0.74879968 1.         1.        ]]\n"
     ]
    }
   ],
   "source": [
    "randommatrix[1,1:3]=1\n",
    "print(randommatrix)"
   ]
  },
  {
   "cell_type": "code",
   "execution_count": 44,
   "id": "b7730c60",
   "metadata": {},
   "outputs": [
    {
     "name": "stdout",
     "output_type": "stream",
     "text": [
      "[[0. 0. 7.]\n",
      " [5. 5. 7.]\n",
      " [0. 0. 7.]]\n"
     ]
    }
   ],
   "source": [
    "# Set some rows and columns with any values\n",
    "z=np.zeros((3,3))\n",
    "z[1,:]=5\n",
    "z[:,2]=7\n",
    "print(z)"
   ]
  },
  {
   "cell_type": "code",
   "execution_count": null,
   "id": "86e4e888",
   "metadata": {},
   "outputs": [],
   "source": []
  }
 ],
 "metadata": {
  "kernelspec": {
   "display_name": "Python 3 (ipykernel)",
   "language": "python",
   "name": "python3"
  },
  "language_info": {
   "codemirror_mode": {
    "name": "ipython",
    "version": 3
   },
   "file_extension": ".py",
   "mimetype": "text/x-python",
   "name": "python",
   "nbconvert_exporter": "python",
   "pygments_lexer": "ipython3",
   "version": "3.8.5"
  }
 },
 "nbformat": 4,
 "nbformat_minor": 5
}
